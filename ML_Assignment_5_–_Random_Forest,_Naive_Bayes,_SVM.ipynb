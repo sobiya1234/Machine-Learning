{
  "nbformat": 4,
  "nbformat_minor": 0,
  "metadata": {
    "colab": {
      "provenance": [],
      "include_colab_link": true
    },
    "kernelspec": {
      "name": "python3",
      "display_name": "Python 3"
    },
    "language_info": {
      "name": "python"
    }
  },
  "cells": [
    {
      "cell_type": "markdown",
      "metadata": {
        "id": "view-in-github",
        "colab_type": "text"
      },
      "source": [
        "<a href=\"https://colab.research.google.com/github/sobiya1234/Machine-Learning/blob/main/ML_Assignment_5_%E2%80%93_Random_Forest%2C_Naive_Bayes%2C_SVM.ipynb\" target=\"_parent\"><img src=\"https://colab.research.google.com/assets/colab-badge.svg\" alt=\"Open In Colab\"/></a>"
      ]
    },
    {
      "cell_type": "code",
      "source": [
        "import pandas as pd\n",
        "from sklearn.model_selection import train_test_split\n",
        "from sklearn.ensemble import RandomForestClassifier\n",
        "from sklearn.metrics import accuracy_score, classification_report\n",
        "from sklearn.preprocessing import LabelEncoder, StandardScaler"
      ],
      "metadata": {
        "id": "dYqXemNUalW-"
      },
      "execution_count": null,
      "outputs": []
    },
    {
      "cell_type": "markdown",
      "source": [
        "#1. Data Preprocessing:"
      ],
      "metadata": {
        "id": "aaCideYpcYas"
      }
    },
    {
      "cell_type": "markdown",
      "source": [
        "1.1. Load the Dataset: Load the dataset and perform an initial exploration to understand its structure and content."
      ],
      "metadata": {
        "id": "R0tUiCxxcc8q"
      }
    },
    {
      "cell_type": "code",
      "source": [
        "# Load the dataset\n",
        "df = pd.read_csv('https://raw.githubusercontent.com/ArchanaInsights/Datasets/refs/heads/main/crowdfunding_campaign.csv')"
      ],
      "metadata": {
        "id": "DEaAxTdfauac"
      },
      "execution_count": null,
      "outputs": []
    },
    {
      "cell_type": "code",
      "source": [
        "print(\"Shape of the dataset:\", df.shape)"
      ],
      "metadata": {
        "id": "k7uZgczhcKmy",
        "colab": {
          "base_uri": "https://localhost:8080/"
        },
        "outputId": "2105d187-1a83-43c8-bc58-3411746eceb3"
      },
      "execution_count": null,
      "outputs": [
        {
          "output_type": "stream",
          "name": "stdout",
          "text": [
            "Shape of the dataset: (100000, 14)\n"
          ]
        }
      ]
    },
    {
      "cell_type": "code",
      "source": [
        "df_head = df.head()\n",
        "df_head"
      ],
      "metadata": {
        "id": "gC_3lBN0cUZB",
        "colab": {
          "base_uri": "https://localhost:8080/",
          "height": 226
        },
        "outputId": "62ab982c-d236-4f84-886c-34933c268375"
      },
      "execution_count": null,
      "outputs": [
        {
          "output_type": "execute_result",
          "data": {
            "text/plain": [
              "  CampaignID  GoalAmount  RaisedAmount  DurationDays  NumBackers Category  \\\n",
              "0  CID_00000       76159  73518.028955            15        1903     Film   \n",
              "1  CID_00001       69394  60068.683288            49         469      Art   \n",
              "2  CID_00002       18652  22958.153470            58         148     Film   \n",
              "3  CID_00003       19487  24229.048390            39         780     Film   \n",
              "4  CID_00004       26734  17984.630311            68        1622    Games   \n",
              "\n",
              "  LaunchMonth    Country Currency  OwnerExperience VideoIncluded  \\\n",
              "0   September  Australia      GBP               11           Yes   \n",
              "1     October  Australia      GBP                7           Yes   \n",
              "2    February        USA      EUR               17            No   \n",
              "3     October    Germany      AUD               10            No   \n",
              "4   September  Australia      AUD               12           Yes   \n",
              "\n",
              "   SocialMediaPresence  NumUpdates  IsSuccessful  \n",
              "0                41758           3             0  \n",
              "1                79112          48             0  \n",
              "2                 3942           9             1  \n",
              "3                22047          35             1  \n",
              "4                72568          17             0  "
            ],
            "text/html": [
              "\n",
              "  <div id=\"df-2e892ad1-c322-4639-8e52-f801d5b6eddc\" class=\"colab-df-container\">\n",
              "    <div>\n",
              "<style scoped>\n",
              "    .dataframe tbody tr th:only-of-type {\n",
              "        vertical-align: middle;\n",
              "    }\n",
              "\n",
              "    .dataframe tbody tr th {\n",
              "        vertical-align: top;\n",
              "    }\n",
              "\n",
              "    .dataframe thead th {\n",
              "        text-align: right;\n",
              "    }\n",
              "</style>\n",
              "<table border=\"1\" class=\"dataframe\">\n",
              "  <thead>\n",
              "    <tr style=\"text-align: right;\">\n",
              "      <th></th>\n",
              "      <th>CampaignID</th>\n",
              "      <th>GoalAmount</th>\n",
              "      <th>RaisedAmount</th>\n",
              "      <th>DurationDays</th>\n",
              "      <th>NumBackers</th>\n",
              "      <th>Category</th>\n",
              "      <th>LaunchMonth</th>\n",
              "      <th>Country</th>\n",
              "      <th>Currency</th>\n",
              "      <th>OwnerExperience</th>\n",
              "      <th>VideoIncluded</th>\n",
              "      <th>SocialMediaPresence</th>\n",
              "      <th>NumUpdates</th>\n",
              "      <th>IsSuccessful</th>\n",
              "    </tr>\n",
              "  </thead>\n",
              "  <tbody>\n",
              "    <tr>\n",
              "      <th>0</th>\n",
              "      <td>CID_00000</td>\n",
              "      <td>76159</td>\n",
              "      <td>73518.028955</td>\n",
              "      <td>15</td>\n",
              "      <td>1903</td>\n",
              "      <td>Film</td>\n",
              "      <td>September</td>\n",
              "      <td>Australia</td>\n",
              "      <td>GBP</td>\n",
              "      <td>11</td>\n",
              "      <td>Yes</td>\n",
              "      <td>41758</td>\n",
              "      <td>3</td>\n",
              "      <td>0</td>\n",
              "    </tr>\n",
              "    <tr>\n",
              "      <th>1</th>\n",
              "      <td>CID_00001</td>\n",
              "      <td>69394</td>\n",
              "      <td>60068.683288</td>\n",
              "      <td>49</td>\n",
              "      <td>469</td>\n",
              "      <td>Art</td>\n",
              "      <td>October</td>\n",
              "      <td>Australia</td>\n",
              "      <td>GBP</td>\n",
              "      <td>7</td>\n",
              "      <td>Yes</td>\n",
              "      <td>79112</td>\n",
              "      <td>48</td>\n",
              "      <td>0</td>\n",
              "    </tr>\n",
              "    <tr>\n",
              "      <th>2</th>\n",
              "      <td>CID_00002</td>\n",
              "      <td>18652</td>\n",
              "      <td>22958.153470</td>\n",
              "      <td>58</td>\n",
              "      <td>148</td>\n",
              "      <td>Film</td>\n",
              "      <td>February</td>\n",
              "      <td>USA</td>\n",
              "      <td>EUR</td>\n",
              "      <td>17</td>\n",
              "      <td>No</td>\n",
              "      <td>3942</td>\n",
              "      <td>9</td>\n",
              "      <td>1</td>\n",
              "    </tr>\n",
              "    <tr>\n",
              "      <th>3</th>\n",
              "      <td>CID_00003</td>\n",
              "      <td>19487</td>\n",
              "      <td>24229.048390</td>\n",
              "      <td>39</td>\n",
              "      <td>780</td>\n",
              "      <td>Film</td>\n",
              "      <td>October</td>\n",
              "      <td>Germany</td>\n",
              "      <td>AUD</td>\n",
              "      <td>10</td>\n",
              "      <td>No</td>\n",
              "      <td>22047</td>\n",
              "      <td>35</td>\n",
              "      <td>1</td>\n",
              "    </tr>\n",
              "    <tr>\n",
              "      <th>4</th>\n",
              "      <td>CID_00004</td>\n",
              "      <td>26734</td>\n",
              "      <td>17984.630311</td>\n",
              "      <td>68</td>\n",
              "      <td>1622</td>\n",
              "      <td>Games</td>\n",
              "      <td>September</td>\n",
              "      <td>Australia</td>\n",
              "      <td>AUD</td>\n",
              "      <td>12</td>\n",
              "      <td>Yes</td>\n",
              "      <td>72568</td>\n",
              "      <td>17</td>\n",
              "      <td>0</td>\n",
              "    </tr>\n",
              "  </tbody>\n",
              "</table>\n",
              "</div>\n",
              "    <div class=\"colab-df-buttons\">\n",
              "\n",
              "  <div class=\"colab-df-container\">\n",
              "    <button class=\"colab-df-convert\" onclick=\"convertToInteractive('df-2e892ad1-c322-4639-8e52-f801d5b6eddc')\"\n",
              "            title=\"Convert this dataframe to an interactive table.\"\n",
              "            style=\"display:none;\">\n",
              "\n",
              "  <svg xmlns=\"http://www.w3.org/2000/svg\" height=\"24px\" viewBox=\"0 -960 960 960\">\n",
              "    <path d=\"M120-120v-720h720v720H120Zm60-500h600v-160H180v160Zm220 220h160v-160H400v160Zm0 220h160v-160H400v160ZM180-400h160v-160H180v160Zm440 0h160v-160H620v160ZM180-180h160v-160H180v160Zm440 0h160v-160H620v160Z\"/>\n",
              "  </svg>\n",
              "    </button>\n",
              "\n",
              "  <style>\n",
              "    .colab-df-container {\n",
              "      display:flex;\n",
              "      gap: 12px;\n",
              "    }\n",
              "\n",
              "    .colab-df-convert {\n",
              "      background-color: #E8F0FE;\n",
              "      border: none;\n",
              "      border-radius: 50%;\n",
              "      cursor: pointer;\n",
              "      display: none;\n",
              "      fill: #1967D2;\n",
              "      height: 32px;\n",
              "      padding: 0 0 0 0;\n",
              "      width: 32px;\n",
              "    }\n",
              "\n",
              "    .colab-df-convert:hover {\n",
              "      background-color: #E2EBFA;\n",
              "      box-shadow: 0px 1px 2px rgba(60, 64, 67, 0.3), 0px 1px 3px 1px rgba(60, 64, 67, 0.15);\n",
              "      fill: #174EA6;\n",
              "    }\n",
              "\n",
              "    .colab-df-buttons div {\n",
              "      margin-bottom: 4px;\n",
              "    }\n",
              "\n",
              "    [theme=dark] .colab-df-convert {\n",
              "      background-color: #3B4455;\n",
              "      fill: #D2E3FC;\n",
              "    }\n",
              "\n",
              "    [theme=dark] .colab-df-convert:hover {\n",
              "      background-color: #434B5C;\n",
              "      box-shadow: 0px 1px 3px 1px rgba(0, 0, 0, 0.15);\n",
              "      filter: drop-shadow(0px 1px 2px rgba(0, 0, 0, 0.3));\n",
              "      fill: #FFFFFF;\n",
              "    }\n",
              "  </style>\n",
              "\n",
              "    <script>\n",
              "      const buttonEl =\n",
              "        document.querySelector('#df-2e892ad1-c322-4639-8e52-f801d5b6eddc button.colab-df-convert');\n",
              "      buttonEl.style.display =\n",
              "        google.colab.kernel.accessAllowed ? 'block' : 'none';\n",
              "\n",
              "      async function convertToInteractive(key) {\n",
              "        const element = document.querySelector('#df-2e892ad1-c322-4639-8e52-f801d5b6eddc');\n",
              "        const dataTable =\n",
              "          await google.colab.kernel.invokeFunction('convertToInteractive',\n",
              "                                                    [key], {});\n",
              "        if (!dataTable) return;\n",
              "\n",
              "        const docLinkHtml = 'Like what you see? Visit the ' +\n",
              "          '<a target=\"_blank\" href=https://colab.research.google.com/notebooks/data_table.ipynb>data table notebook</a>'\n",
              "          + ' to learn more about interactive tables.';\n",
              "        element.innerHTML = '';\n",
              "        dataTable['output_type'] = 'display_data';\n",
              "        await google.colab.output.renderOutput(dataTable, element);\n",
              "        const docLink = document.createElement('div');\n",
              "        docLink.innerHTML = docLinkHtml;\n",
              "        element.appendChild(docLink);\n",
              "      }\n",
              "    </script>\n",
              "  </div>\n",
              "\n",
              "\n",
              "    <div id=\"df-ca2ee884-fdb0-459c-8ee0-cc25d2a99093\">\n",
              "      <button class=\"colab-df-quickchart\" onclick=\"quickchart('df-ca2ee884-fdb0-459c-8ee0-cc25d2a99093')\"\n",
              "                title=\"Suggest charts\"\n",
              "                style=\"display:none;\">\n",
              "\n",
              "<svg xmlns=\"http://www.w3.org/2000/svg\" height=\"24px\"viewBox=\"0 0 24 24\"\n",
              "     width=\"24px\">\n",
              "    <g>\n",
              "        <path d=\"M19 3H5c-1.1 0-2 .9-2 2v14c0 1.1.9 2 2 2h14c1.1 0 2-.9 2-2V5c0-1.1-.9-2-2-2zM9 17H7v-7h2v7zm4 0h-2V7h2v10zm4 0h-2v-4h2v4z\"/>\n",
              "    </g>\n",
              "</svg>\n",
              "      </button>\n",
              "\n",
              "<style>\n",
              "  .colab-df-quickchart {\n",
              "      --bg-color: #E8F0FE;\n",
              "      --fill-color: #1967D2;\n",
              "      --hover-bg-color: #E2EBFA;\n",
              "      --hover-fill-color: #174EA6;\n",
              "      --disabled-fill-color: #AAA;\n",
              "      --disabled-bg-color: #DDD;\n",
              "  }\n",
              "\n",
              "  [theme=dark] .colab-df-quickchart {\n",
              "      --bg-color: #3B4455;\n",
              "      --fill-color: #D2E3FC;\n",
              "      --hover-bg-color: #434B5C;\n",
              "      --hover-fill-color: #FFFFFF;\n",
              "      --disabled-bg-color: #3B4455;\n",
              "      --disabled-fill-color: #666;\n",
              "  }\n",
              "\n",
              "  .colab-df-quickchart {\n",
              "    background-color: var(--bg-color);\n",
              "    border: none;\n",
              "    border-radius: 50%;\n",
              "    cursor: pointer;\n",
              "    display: none;\n",
              "    fill: var(--fill-color);\n",
              "    height: 32px;\n",
              "    padding: 0;\n",
              "    width: 32px;\n",
              "  }\n",
              "\n",
              "  .colab-df-quickchart:hover {\n",
              "    background-color: var(--hover-bg-color);\n",
              "    box-shadow: 0 1px 2px rgba(60, 64, 67, 0.3), 0 1px 3px 1px rgba(60, 64, 67, 0.15);\n",
              "    fill: var(--button-hover-fill-color);\n",
              "  }\n",
              "\n",
              "  .colab-df-quickchart-complete:disabled,\n",
              "  .colab-df-quickchart-complete:disabled:hover {\n",
              "    background-color: var(--disabled-bg-color);\n",
              "    fill: var(--disabled-fill-color);\n",
              "    box-shadow: none;\n",
              "  }\n",
              "\n",
              "  .colab-df-spinner {\n",
              "    border: 2px solid var(--fill-color);\n",
              "    border-color: transparent;\n",
              "    border-bottom-color: var(--fill-color);\n",
              "    animation:\n",
              "      spin 1s steps(1) infinite;\n",
              "  }\n",
              "\n",
              "  @keyframes spin {\n",
              "    0% {\n",
              "      border-color: transparent;\n",
              "      border-bottom-color: var(--fill-color);\n",
              "      border-left-color: var(--fill-color);\n",
              "    }\n",
              "    20% {\n",
              "      border-color: transparent;\n",
              "      border-left-color: var(--fill-color);\n",
              "      border-top-color: var(--fill-color);\n",
              "    }\n",
              "    30% {\n",
              "      border-color: transparent;\n",
              "      border-left-color: var(--fill-color);\n",
              "      border-top-color: var(--fill-color);\n",
              "      border-right-color: var(--fill-color);\n",
              "    }\n",
              "    40% {\n",
              "      border-color: transparent;\n",
              "      border-right-color: var(--fill-color);\n",
              "      border-top-color: var(--fill-color);\n",
              "    }\n",
              "    60% {\n",
              "      border-color: transparent;\n",
              "      border-right-color: var(--fill-color);\n",
              "    }\n",
              "    80% {\n",
              "      border-color: transparent;\n",
              "      border-right-color: var(--fill-color);\n",
              "      border-bottom-color: var(--fill-color);\n",
              "    }\n",
              "    90% {\n",
              "      border-color: transparent;\n",
              "      border-bottom-color: var(--fill-color);\n",
              "    }\n",
              "  }\n",
              "</style>\n",
              "\n",
              "      <script>\n",
              "        async function quickchart(key) {\n",
              "          const quickchartButtonEl =\n",
              "            document.querySelector('#' + key + ' button');\n",
              "          quickchartButtonEl.disabled = true;  // To prevent multiple clicks.\n",
              "          quickchartButtonEl.classList.add('colab-df-spinner');\n",
              "          try {\n",
              "            const charts = await google.colab.kernel.invokeFunction(\n",
              "                'suggestCharts', [key], {});\n",
              "          } catch (error) {\n",
              "            console.error('Error during call to suggestCharts:', error);\n",
              "          }\n",
              "          quickchartButtonEl.classList.remove('colab-df-spinner');\n",
              "          quickchartButtonEl.classList.add('colab-df-quickchart-complete');\n",
              "        }\n",
              "        (() => {\n",
              "          let quickchartButtonEl =\n",
              "            document.querySelector('#df-ca2ee884-fdb0-459c-8ee0-cc25d2a99093 button');\n",
              "          quickchartButtonEl.style.display =\n",
              "            google.colab.kernel.accessAllowed ? 'block' : 'none';\n",
              "        })();\n",
              "      </script>\n",
              "    </div>\n",
              "\n",
              "  <div id=\"id_e1cc6f78-9e45-4442-8bd3-1ca131c63bfa\">\n",
              "    <style>\n",
              "      .colab-df-generate {\n",
              "        background-color: #E8F0FE;\n",
              "        border: none;\n",
              "        border-radius: 50%;\n",
              "        cursor: pointer;\n",
              "        display: none;\n",
              "        fill: #1967D2;\n",
              "        height: 32px;\n",
              "        padding: 0 0 0 0;\n",
              "        width: 32px;\n",
              "      }\n",
              "\n",
              "      .colab-df-generate:hover {\n",
              "        background-color: #E2EBFA;\n",
              "        box-shadow: 0px 1px 2px rgba(60, 64, 67, 0.3), 0px 1px 3px 1px rgba(60, 64, 67, 0.15);\n",
              "        fill: #174EA6;\n",
              "      }\n",
              "\n",
              "      [theme=dark] .colab-df-generate {\n",
              "        background-color: #3B4455;\n",
              "        fill: #D2E3FC;\n",
              "      }\n",
              "\n",
              "      [theme=dark] .colab-df-generate:hover {\n",
              "        background-color: #434B5C;\n",
              "        box-shadow: 0px 1px 3px 1px rgba(0, 0, 0, 0.15);\n",
              "        filter: drop-shadow(0px 1px 2px rgba(0, 0, 0, 0.3));\n",
              "        fill: #FFFFFF;\n",
              "      }\n",
              "    </style>\n",
              "    <button class=\"colab-df-generate\" onclick=\"generateWithVariable('df_head')\"\n",
              "            title=\"Generate code using this dataframe.\"\n",
              "            style=\"display:none;\">\n",
              "\n",
              "  <svg xmlns=\"http://www.w3.org/2000/svg\" height=\"24px\"viewBox=\"0 0 24 24\"\n",
              "       width=\"24px\">\n",
              "    <path d=\"M7,19H8.4L18.45,9,17,7.55,7,17.6ZM5,21V16.75L18.45,3.32a2,2,0,0,1,2.83,0l1.4,1.43a1.91,1.91,0,0,1,.58,1.4,1.91,1.91,0,0,1-.58,1.4L9.25,21ZM18.45,9,17,7.55Zm-12,3A5.31,5.31,0,0,0,4.9,8.1,5.31,5.31,0,0,0,1,6.5,5.31,5.31,0,0,0,4.9,4.9,5.31,5.31,0,0,0,6.5,1,5.31,5.31,0,0,0,8.1,4.9,5.31,5.31,0,0,0,12,6.5,5.46,5.46,0,0,0,6.5,12Z\"/>\n",
              "  </svg>\n",
              "    </button>\n",
              "    <script>\n",
              "      (() => {\n",
              "      const buttonEl =\n",
              "        document.querySelector('#id_e1cc6f78-9e45-4442-8bd3-1ca131c63bfa button.colab-df-generate');\n",
              "      buttonEl.style.display =\n",
              "        google.colab.kernel.accessAllowed ? 'block' : 'none';\n",
              "\n",
              "      buttonEl.onclick = () => {\n",
              "        google.colab.notebook.generateWithVariable('df_head');\n",
              "      }\n",
              "      })();\n",
              "    </script>\n",
              "  </div>\n",
              "\n",
              "    </div>\n",
              "  </div>\n"
            ],
            "application/vnd.google.colaboratory.intrinsic+json": {
              "type": "dataframe",
              "variable_name": "df_head",
              "summary": "{\n  \"name\": \"df_head\",\n  \"rows\": 5,\n  \"fields\": [\n    {\n      \"column\": \"CampaignID\",\n      \"properties\": {\n        \"dtype\": \"string\",\n        \"num_unique_values\": 5,\n        \"samples\": [\n          \"CID_00001\",\n          \"CID_00004\",\n          \"CID_00002\"\n        ],\n        \"semantic_type\": \"\",\n        \"description\": \"\"\n      }\n    },\n    {\n      \"column\": \"GoalAmount\",\n      \"properties\": {\n        \"dtype\": \"number\",\n        \"std\": 28294,\n        \"min\": 18652,\n        \"max\": 76159,\n        \"num_unique_values\": 5,\n        \"samples\": [\n          69394,\n          26734,\n          18652\n        ],\n        \"semantic_type\": \"\",\n        \"description\": \"\"\n      }\n    },\n    {\n      \"column\": \"RaisedAmount\",\n      \"properties\": {\n        \"dtype\": \"number\",\n        \"std\": 25247.405915944728,\n        \"min\": 17984.630310924433,\n        \"max\": 73518.02895458053,\n        \"num_unique_values\": 5,\n        \"samples\": [\n          60068.68328829211,\n          17984.630310924433,\n          22958.153469639627\n        ],\n        \"semantic_type\": \"\",\n        \"description\": \"\"\n      }\n    },\n    {\n      \"column\": \"DurationDays\",\n      \"properties\": {\n        \"dtype\": \"number\",\n        \"std\": 20,\n        \"min\": 15,\n        \"max\": 68,\n        \"num_unique_values\": 5,\n        \"samples\": [\n          49,\n          68,\n          58\n        ],\n        \"semantic_type\": \"\",\n        \"description\": \"\"\n      }\n    },\n    {\n      \"column\": \"NumBackers\",\n      \"properties\": {\n        \"dtype\": \"number\",\n        \"std\": 751,\n        \"min\": 148,\n        \"max\": 1903,\n        \"num_unique_values\": 5,\n        \"samples\": [\n          469,\n          1622,\n          148\n        ],\n        \"semantic_type\": \"\",\n        \"description\": \"\"\n      }\n    },\n    {\n      \"column\": \"Category\",\n      \"properties\": {\n        \"dtype\": \"string\",\n        \"num_unique_values\": 3,\n        \"samples\": [\n          \"Film\",\n          \"Art\",\n          \"Games\"\n        ],\n        \"semantic_type\": \"\",\n        \"description\": \"\"\n      }\n    },\n    {\n      \"column\": \"LaunchMonth\",\n      \"properties\": {\n        \"dtype\": \"string\",\n        \"num_unique_values\": 3,\n        \"samples\": [\n          \"September\",\n          \"October\",\n          \"February\"\n        ],\n        \"semantic_type\": \"\",\n        \"description\": \"\"\n      }\n    },\n    {\n      \"column\": \"Country\",\n      \"properties\": {\n        \"dtype\": \"string\",\n        \"num_unique_values\": 3,\n        \"samples\": [\n          \"Australia\",\n          \"USA\",\n          \"Germany\"\n        ],\n        \"semantic_type\": \"\",\n        \"description\": \"\"\n      }\n    },\n    {\n      \"column\": \"Currency\",\n      \"properties\": {\n        \"dtype\": \"string\",\n        \"num_unique_values\": 3,\n        \"samples\": [\n          \"GBP\",\n          \"EUR\",\n          \"AUD\"\n        ],\n        \"semantic_type\": \"\",\n        \"description\": \"\"\n      }\n    },\n    {\n      \"column\": \"OwnerExperience\",\n      \"properties\": {\n        \"dtype\": \"number\",\n        \"std\": 3,\n        \"min\": 7,\n        \"max\": 17,\n        \"num_unique_values\": 5,\n        \"samples\": [\n          7,\n          12,\n          17\n        ],\n        \"semantic_type\": \"\",\n        \"description\": \"\"\n      }\n    },\n    {\n      \"column\": \"VideoIncluded\",\n      \"properties\": {\n        \"dtype\": \"category\",\n        \"num_unique_values\": 2,\n        \"samples\": [\n          \"No\",\n          \"Yes\"\n        ],\n        \"semantic_type\": \"\",\n        \"description\": \"\"\n      }\n    },\n    {\n      \"column\": \"SocialMediaPresence\",\n      \"properties\": {\n        \"dtype\": \"number\",\n        \"std\": 32173,\n        \"min\": 3942,\n        \"max\": 79112,\n        \"num_unique_values\": 5,\n        \"samples\": [\n          79112,\n          72568\n        ],\n        \"semantic_type\": \"\",\n        \"description\": \"\"\n      }\n    },\n    {\n      \"column\": \"NumUpdates\",\n      \"properties\": {\n        \"dtype\": \"number\",\n        \"std\": 18,\n        \"min\": 3,\n        \"max\": 48,\n        \"num_unique_values\": 5,\n        \"samples\": [\n          48,\n          17\n        ],\n        \"semantic_type\": \"\",\n        \"description\": \"\"\n      }\n    },\n    {\n      \"column\": \"IsSuccessful\",\n      \"properties\": {\n        \"dtype\": \"number\",\n        \"std\": 0,\n        \"min\": 0,\n        \"max\": 1,\n        \"num_unique_values\": 2,\n        \"samples\": [\n          1,\n          0\n        ],\n        \"semantic_type\": \"\",\n        \"description\": \"\"\n      }\n    }\n  ]\n}"
            }
          },
          "metadata": {},
          "execution_count": 4
        }
      ]
    },
    {
      "cell_type": "code",
      "source": [
        "df_info = df.info()\n",
        "df_info"
      ],
      "metadata": {
        "id": "WcR_TSz7chqO",
        "colab": {
          "base_uri": "https://localhost:8080/"
        },
        "outputId": "f42fded7-52f9-45f8-eb77-e5891aedaea8"
      },
      "execution_count": null,
      "outputs": [
        {
          "output_type": "stream",
          "name": "stdout",
          "text": [
            "<class 'pandas.core.frame.DataFrame'>\n",
            "RangeIndex: 100000 entries, 0 to 99999\n",
            "Data columns (total 14 columns):\n",
            " #   Column               Non-Null Count   Dtype  \n",
            "---  ------               --------------   -----  \n",
            " 0   CampaignID           100000 non-null  object \n",
            " 1   GoalAmount           100000 non-null  int64  \n",
            " 2   RaisedAmount         100000 non-null  float64\n",
            " 3   DurationDays         100000 non-null  int64  \n",
            " 4   NumBackers           100000 non-null  int64  \n",
            " 5   Category             100000 non-null  object \n",
            " 6   LaunchMonth          100000 non-null  object \n",
            " 7   Country              100000 non-null  object \n",
            " 8   Currency             100000 non-null  object \n",
            " 9   OwnerExperience      100000 non-null  int64  \n",
            " 10  VideoIncluded        100000 non-null  object \n",
            " 11  SocialMediaPresence  100000 non-null  int64  \n",
            " 12  NumUpdates           100000 non-null  int64  \n",
            " 13  IsSuccessful         100000 non-null  int64  \n",
            "dtypes: float64(1), int64(7), object(6)\n",
            "memory usage: 10.7+ MB\n"
          ]
        }
      ]
    },
    {
      "cell_type": "code",
      "source": [
        "df.describe()"
      ],
      "metadata": {
        "id": "e0hCk3sacrIk",
        "colab": {
          "base_uri": "https://localhost:8080/",
          "height": 300
        },
        "outputId": "7d941ee3-44fa-40f4-cd6c-4018d496a08c"
      },
      "execution_count": null,
      "outputs": [
        {
          "output_type": "execute_result",
          "data": {
            "text/plain": [
              "          GoalAmount   RaisedAmount   DurationDays     NumBackers  \\\n",
              "count  100000.000000  100000.000000  100000.000000  100000.000000   \n",
              "mean    50538.001310   50598.121803      52.047370    1003.347340   \n",
              "std     28613.822592   33255.277493      21.653238     574.485153   \n",
              "min      1000.000000     528.632349      15.000000      10.000000   \n",
              "25%     25724.750000   23396.500017      33.000000     505.000000   \n",
              "50%     50706.000000   45980.674476      52.000000    1003.000000   \n",
              "75%     75316.000000   72790.183158      71.000000    1502.000000   \n",
              "max     99999.000000  149238.361559      89.000000    1999.000000   \n",
              "\n",
              "       OwnerExperience  SocialMediaPresence     NumUpdates   IsSuccessful  \n",
              "count    100000.000000        100000.000000  100000.000000  100000.000000  \n",
              "mean          9.489130         50077.301010      24.483230       0.500940  \n",
              "std           5.763538         28767.521522      14.413833       0.500002  \n",
              "min           0.000000           100.000000       0.000000       0.000000  \n",
              "25%           4.000000         25276.750000      12.000000       0.000000  \n",
              "50%           9.000000         50024.500000      25.000000       1.000000  \n",
              "75%          14.000000         74934.250000      37.000000       1.000000  \n",
              "max          19.000000         99999.000000      49.000000       1.000000  "
            ],
            "text/html": [
              "\n",
              "  <div id=\"df-38897381-5582-449d-aef1-6f234630976a\" class=\"colab-df-container\">\n",
              "    <div>\n",
              "<style scoped>\n",
              "    .dataframe tbody tr th:only-of-type {\n",
              "        vertical-align: middle;\n",
              "    }\n",
              "\n",
              "    .dataframe tbody tr th {\n",
              "        vertical-align: top;\n",
              "    }\n",
              "\n",
              "    .dataframe thead th {\n",
              "        text-align: right;\n",
              "    }\n",
              "</style>\n",
              "<table border=\"1\" class=\"dataframe\">\n",
              "  <thead>\n",
              "    <tr style=\"text-align: right;\">\n",
              "      <th></th>\n",
              "      <th>GoalAmount</th>\n",
              "      <th>RaisedAmount</th>\n",
              "      <th>DurationDays</th>\n",
              "      <th>NumBackers</th>\n",
              "      <th>OwnerExperience</th>\n",
              "      <th>SocialMediaPresence</th>\n",
              "      <th>NumUpdates</th>\n",
              "      <th>IsSuccessful</th>\n",
              "    </tr>\n",
              "  </thead>\n",
              "  <tbody>\n",
              "    <tr>\n",
              "      <th>count</th>\n",
              "      <td>100000.000000</td>\n",
              "      <td>100000.000000</td>\n",
              "      <td>100000.000000</td>\n",
              "      <td>100000.000000</td>\n",
              "      <td>100000.000000</td>\n",
              "      <td>100000.000000</td>\n",
              "      <td>100000.000000</td>\n",
              "      <td>100000.000000</td>\n",
              "    </tr>\n",
              "    <tr>\n",
              "      <th>mean</th>\n",
              "      <td>50538.001310</td>\n",
              "      <td>50598.121803</td>\n",
              "      <td>52.047370</td>\n",
              "      <td>1003.347340</td>\n",
              "      <td>9.489130</td>\n",
              "      <td>50077.301010</td>\n",
              "      <td>24.483230</td>\n",
              "      <td>0.500940</td>\n",
              "    </tr>\n",
              "    <tr>\n",
              "      <th>std</th>\n",
              "      <td>28613.822592</td>\n",
              "      <td>33255.277493</td>\n",
              "      <td>21.653238</td>\n",
              "      <td>574.485153</td>\n",
              "      <td>5.763538</td>\n",
              "      <td>28767.521522</td>\n",
              "      <td>14.413833</td>\n",
              "      <td>0.500002</td>\n",
              "    </tr>\n",
              "    <tr>\n",
              "      <th>min</th>\n",
              "      <td>1000.000000</td>\n",
              "      <td>528.632349</td>\n",
              "      <td>15.000000</td>\n",
              "      <td>10.000000</td>\n",
              "      <td>0.000000</td>\n",
              "      <td>100.000000</td>\n",
              "      <td>0.000000</td>\n",
              "      <td>0.000000</td>\n",
              "    </tr>\n",
              "    <tr>\n",
              "      <th>25%</th>\n",
              "      <td>25724.750000</td>\n",
              "      <td>23396.500017</td>\n",
              "      <td>33.000000</td>\n",
              "      <td>505.000000</td>\n",
              "      <td>4.000000</td>\n",
              "      <td>25276.750000</td>\n",
              "      <td>12.000000</td>\n",
              "      <td>0.000000</td>\n",
              "    </tr>\n",
              "    <tr>\n",
              "      <th>50%</th>\n",
              "      <td>50706.000000</td>\n",
              "      <td>45980.674476</td>\n",
              "      <td>52.000000</td>\n",
              "      <td>1003.000000</td>\n",
              "      <td>9.000000</td>\n",
              "      <td>50024.500000</td>\n",
              "      <td>25.000000</td>\n",
              "      <td>1.000000</td>\n",
              "    </tr>\n",
              "    <tr>\n",
              "      <th>75%</th>\n",
              "      <td>75316.000000</td>\n",
              "      <td>72790.183158</td>\n",
              "      <td>71.000000</td>\n",
              "      <td>1502.000000</td>\n",
              "      <td>14.000000</td>\n",
              "      <td>74934.250000</td>\n",
              "      <td>37.000000</td>\n",
              "      <td>1.000000</td>\n",
              "    </tr>\n",
              "    <tr>\n",
              "      <th>max</th>\n",
              "      <td>99999.000000</td>\n",
              "      <td>149238.361559</td>\n",
              "      <td>89.000000</td>\n",
              "      <td>1999.000000</td>\n",
              "      <td>19.000000</td>\n",
              "      <td>99999.000000</td>\n",
              "      <td>49.000000</td>\n",
              "      <td>1.000000</td>\n",
              "    </tr>\n",
              "  </tbody>\n",
              "</table>\n",
              "</div>\n",
              "    <div class=\"colab-df-buttons\">\n",
              "\n",
              "  <div class=\"colab-df-container\">\n",
              "    <button class=\"colab-df-convert\" onclick=\"convertToInteractive('df-38897381-5582-449d-aef1-6f234630976a')\"\n",
              "            title=\"Convert this dataframe to an interactive table.\"\n",
              "            style=\"display:none;\">\n",
              "\n",
              "  <svg xmlns=\"http://www.w3.org/2000/svg\" height=\"24px\" viewBox=\"0 -960 960 960\">\n",
              "    <path d=\"M120-120v-720h720v720H120Zm60-500h600v-160H180v160Zm220 220h160v-160H400v160Zm0 220h160v-160H400v160ZM180-400h160v-160H180v160Zm440 0h160v-160H620v160ZM180-180h160v-160H180v160Zm440 0h160v-160H620v160Z\"/>\n",
              "  </svg>\n",
              "    </button>\n",
              "\n",
              "  <style>\n",
              "    .colab-df-container {\n",
              "      display:flex;\n",
              "      gap: 12px;\n",
              "    }\n",
              "\n",
              "    .colab-df-convert {\n",
              "      background-color: #E8F0FE;\n",
              "      border: none;\n",
              "      border-radius: 50%;\n",
              "      cursor: pointer;\n",
              "      display: none;\n",
              "      fill: #1967D2;\n",
              "      height: 32px;\n",
              "      padding: 0 0 0 0;\n",
              "      width: 32px;\n",
              "    }\n",
              "\n",
              "    .colab-df-convert:hover {\n",
              "      background-color: #E2EBFA;\n",
              "      box-shadow: 0px 1px 2px rgba(60, 64, 67, 0.3), 0px 1px 3px 1px rgba(60, 64, 67, 0.15);\n",
              "      fill: #174EA6;\n",
              "    }\n",
              "\n",
              "    .colab-df-buttons div {\n",
              "      margin-bottom: 4px;\n",
              "    }\n",
              "\n",
              "    [theme=dark] .colab-df-convert {\n",
              "      background-color: #3B4455;\n",
              "      fill: #D2E3FC;\n",
              "    }\n",
              "\n",
              "    [theme=dark] .colab-df-convert:hover {\n",
              "      background-color: #434B5C;\n",
              "      box-shadow: 0px 1px 3px 1px rgba(0, 0, 0, 0.15);\n",
              "      filter: drop-shadow(0px 1px 2px rgba(0, 0, 0, 0.3));\n",
              "      fill: #FFFFFF;\n",
              "    }\n",
              "  </style>\n",
              "\n",
              "    <script>\n",
              "      const buttonEl =\n",
              "        document.querySelector('#df-38897381-5582-449d-aef1-6f234630976a button.colab-df-convert');\n",
              "      buttonEl.style.display =\n",
              "        google.colab.kernel.accessAllowed ? 'block' : 'none';\n",
              "\n",
              "      async function convertToInteractive(key) {\n",
              "        const element = document.querySelector('#df-38897381-5582-449d-aef1-6f234630976a');\n",
              "        const dataTable =\n",
              "          await google.colab.kernel.invokeFunction('convertToInteractive',\n",
              "                                                    [key], {});\n",
              "        if (!dataTable) return;\n",
              "\n",
              "        const docLinkHtml = 'Like what you see? Visit the ' +\n",
              "          '<a target=\"_blank\" href=https://colab.research.google.com/notebooks/data_table.ipynb>data table notebook</a>'\n",
              "          + ' to learn more about interactive tables.';\n",
              "        element.innerHTML = '';\n",
              "        dataTable['output_type'] = 'display_data';\n",
              "        await google.colab.output.renderOutput(dataTable, element);\n",
              "        const docLink = document.createElement('div');\n",
              "        docLink.innerHTML = docLinkHtml;\n",
              "        element.appendChild(docLink);\n",
              "      }\n",
              "    </script>\n",
              "  </div>\n",
              "\n",
              "\n",
              "    <div id=\"df-1983310b-d5be-45fa-a17f-82e6978d5eca\">\n",
              "      <button class=\"colab-df-quickchart\" onclick=\"quickchart('df-1983310b-d5be-45fa-a17f-82e6978d5eca')\"\n",
              "                title=\"Suggest charts\"\n",
              "                style=\"display:none;\">\n",
              "\n",
              "<svg xmlns=\"http://www.w3.org/2000/svg\" height=\"24px\"viewBox=\"0 0 24 24\"\n",
              "     width=\"24px\">\n",
              "    <g>\n",
              "        <path d=\"M19 3H5c-1.1 0-2 .9-2 2v14c0 1.1.9 2 2 2h14c1.1 0 2-.9 2-2V5c0-1.1-.9-2-2-2zM9 17H7v-7h2v7zm4 0h-2V7h2v10zm4 0h-2v-4h2v4z\"/>\n",
              "    </g>\n",
              "</svg>\n",
              "      </button>\n",
              "\n",
              "<style>\n",
              "  .colab-df-quickchart {\n",
              "      --bg-color: #E8F0FE;\n",
              "      --fill-color: #1967D2;\n",
              "      --hover-bg-color: #E2EBFA;\n",
              "      --hover-fill-color: #174EA6;\n",
              "      --disabled-fill-color: #AAA;\n",
              "      --disabled-bg-color: #DDD;\n",
              "  }\n",
              "\n",
              "  [theme=dark] .colab-df-quickchart {\n",
              "      --bg-color: #3B4455;\n",
              "      --fill-color: #D2E3FC;\n",
              "      --hover-bg-color: #434B5C;\n",
              "      --hover-fill-color: #FFFFFF;\n",
              "      --disabled-bg-color: #3B4455;\n",
              "      --disabled-fill-color: #666;\n",
              "  }\n",
              "\n",
              "  .colab-df-quickchart {\n",
              "    background-color: var(--bg-color);\n",
              "    border: none;\n",
              "    border-radius: 50%;\n",
              "    cursor: pointer;\n",
              "    display: none;\n",
              "    fill: var(--fill-color);\n",
              "    height: 32px;\n",
              "    padding: 0;\n",
              "    width: 32px;\n",
              "  }\n",
              "\n",
              "  .colab-df-quickchart:hover {\n",
              "    background-color: var(--hover-bg-color);\n",
              "    box-shadow: 0 1px 2px rgba(60, 64, 67, 0.3), 0 1px 3px 1px rgba(60, 64, 67, 0.15);\n",
              "    fill: var(--button-hover-fill-color);\n",
              "  }\n",
              "\n",
              "  .colab-df-quickchart-complete:disabled,\n",
              "  .colab-df-quickchart-complete:disabled:hover {\n",
              "    background-color: var(--disabled-bg-color);\n",
              "    fill: var(--disabled-fill-color);\n",
              "    box-shadow: none;\n",
              "  }\n",
              "\n",
              "  .colab-df-spinner {\n",
              "    border: 2px solid var(--fill-color);\n",
              "    border-color: transparent;\n",
              "    border-bottom-color: var(--fill-color);\n",
              "    animation:\n",
              "      spin 1s steps(1) infinite;\n",
              "  }\n",
              "\n",
              "  @keyframes spin {\n",
              "    0% {\n",
              "      border-color: transparent;\n",
              "      border-bottom-color: var(--fill-color);\n",
              "      border-left-color: var(--fill-color);\n",
              "    }\n",
              "    20% {\n",
              "      border-color: transparent;\n",
              "      border-left-color: var(--fill-color);\n",
              "      border-top-color: var(--fill-color);\n",
              "    }\n",
              "    30% {\n",
              "      border-color: transparent;\n",
              "      border-left-color: var(--fill-color);\n",
              "      border-top-color: var(--fill-color);\n",
              "      border-right-color: var(--fill-color);\n",
              "    }\n",
              "    40% {\n",
              "      border-color: transparent;\n",
              "      border-right-color: var(--fill-color);\n",
              "      border-top-color: var(--fill-color);\n",
              "    }\n",
              "    60% {\n",
              "      border-color: transparent;\n",
              "      border-right-color: var(--fill-color);\n",
              "    }\n",
              "    80% {\n",
              "      border-color: transparent;\n",
              "      border-right-color: var(--fill-color);\n",
              "      border-bottom-color: var(--fill-color);\n",
              "    }\n",
              "    90% {\n",
              "      border-color: transparent;\n",
              "      border-bottom-color: var(--fill-color);\n",
              "    }\n",
              "  }\n",
              "</style>\n",
              "\n",
              "      <script>\n",
              "        async function quickchart(key) {\n",
              "          const quickchartButtonEl =\n",
              "            document.querySelector('#' + key + ' button');\n",
              "          quickchartButtonEl.disabled = true;  // To prevent multiple clicks.\n",
              "          quickchartButtonEl.classList.add('colab-df-spinner');\n",
              "          try {\n",
              "            const charts = await google.colab.kernel.invokeFunction(\n",
              "                'suggestCharts', [key], {});\n",
              "          } catch (error) {\n",
              "            console.error('Error during call to suggestCharts:', error);\n",
              "          }\n",
              "          quickchartButtonEl.classList.remove('colab-df-spinner');\n",
              "          quickchartButtonEl.classList.add('colab-df-quickchart-complete');\n",
              "        }\n",
              "        (() => {\n",
              "          let quickchartButtonEl =\n",
              "            document.querySelector('#df-1983310b-d5be-45fa-a17f-82e6978d5eca button');\n",
              "          quickchartButtonEl.style.display =\n",
              "            google.colab.kernel.accessAllowed ? 'block' : 'none';\n",
              "        })();\n",
              "      </script>\n",
              "    </div>\n",
              "\n",
              "    </div>\n",
              "  </div>\n"
            ],
            "application/vnd.google.colaboratory.intrinsic+json": {
              "type": "dataframe",
              "summary": "{\n  \"name\": \"df\",\n  \"rows\": 8,\n  \"fields\": [\n    {\n      \"column\": \"GoalAmount\",\n      \"properties\": {\n        \"dtype\": \"number\",\n        \"std\": 35781.20452837854,\n        \"min\": 1000.0,\n        \"max\": 100000.0,\n        \"num_unique_values\": 8,\n        \"samples\": [\n          50538.00131,\n          50706.0,\n          100000.0\n        ],\n        \"semantic_type\": \"\",\n        \"description\": \"\"\n      }\n    },\n    {\n      \"column\": \"RaisedAmount\",\n      \"properties\": {\n        \"dtype\": \"number\",\n        \"std\": 47210.36938690835,\n        \"min\": 528.6323492494118,\n        \"max\": 149238.36155883915,\n        \"num_unique_values\": 8,\n        \"samples\": [\n          50598.121802672846,\n          45980.67447639314,\n          100000.0\n        ],\n        \"semantic_type\": \"\",\n        \"description\": \"\"\n      }\n    },\n    {\n      \"column\": \"DurationDays\",\n      \"properties\": {\n        \"dtype\": \"number\",\n        \"std\": 35338.49322333242,\n        \"min\": 15.0,\n        \"max\": 100000.0,\n        \"num_unique_values\": 8,\n        \"samples\": [\n          52.04737,\n          52.0,\n          100000.0\n        ],\n        \"semantic_type\": \"\",\n        \"description\": \"\"\n      }\n    },\n    {\n      \"column\": \"NumBackers\",\n      \"properties\": {\n        \"dtype\": \"number\",\n        \"std\": 35027.518347061785,\n        \"min\": 10.0,\n        \"max\": 100000.0,\n        \"num_unique_values\": 8,\n        \"samples\": [\n          1003.34734,\n          1003.0,\n          100000.0\n        ],\n        \"semantic_type\": \"\",\n        \"description\": \"\"\n      }\n    },\n    {\n      \"column\": \"OwnerExperience\",\n      \"properties\": {\n        \"dtype\": \"number\",\n        \"std\": 35352.24581988626,\n        \"min\": 0.0,\n        \"max\": 100000.0,\n        \"num_unique_values\": 8,\n        \"samples\": [\n          9.48913,\n          9.0,\n          100000.0\n        ],\n        \"semantic_type\": \"\",\n        \"description\": \"\"\n      }\n    },\n    {\n      \"column\": \"SocialMediaPresence\",\n      \"properties\": {\n        \"dtype\": \"number\",\n        \"std\": 35990.597035295636,\n        \"min\": 100.0,\n        \"max\": 100000.0,\n        \"num_unique_values\": 8,\n        \"samples\": [\n          50077.30101,\n          50024.5,\n          100000.0\n        ],\n        \"semantic_type\": \"\",\n        \"description\": \"\"\n      }\n    },\n    {\n      \"column\": \"NumUpdates\",\n      \"properties\": {\n        \"dtype\": \"number\",\n        \"std\": 35347.16525971747,\n        \"min\": 0.0,\n        \"max\": 100000.0,\n        \"num_unique_values\": 8,\n        \"samples\": [\n          24.48323,\n          25.0,\n          100000.0\n        ],\n        \"semantic_type\": \"\",\n        \"description\": \"\"\n      }\n    },\n    {\n      \"column\": \"IsSuccessful\",\n      \"properties\": {\n        \"dtype\": \"number\",\n        \"std\": 35355.136983712626,\n        \"min\": 0.0,\n        \"max\": 100000.0,\n        \"num_unique_values\": 5,\n        \"samples\": [\n          0.50094,\n          1.0,\n          0.5000016164138903\n        ],\n        \"semantic_type\": \"\",\n        \"description\": \"\"\n      }\n    }\n  ]\n}"
            }
          },
          "metadata": {},
          "execution_count": 6
        }
      ]
    },
    {
      "cell_type": "markdown",
      "source": [
        "1.2. Handle Missing Values: Check for and handle any missing values in the dataset if present."
      ],
      "metadata": {
        "id": "o-Wi_UqKct0P"
      }
    },
    {
      "cell_type": "code",
      "source": [
        "print(\"\\nMissing values in each column:\")\n",
        "print(df.isnull().sum())\n",
        "df.dropna(inplace=True)"
      ],
      "metadata": {
        "id": "GlZ1WMRxayXL",
        "colab": {
          "base_uri": "https://localhost:8080/"
        },
        "outputId": "d366741d-cfdd-42cf-aa79-b43cbd9ab724"
      },
      "execution_count": null,
      "outputs": [
        {
          "output_type": "stream",
          "name": "stdout",
          "text": [
            "\n",
            "Missing values in each column:\n",
            "CampaignID             0\n",
            "GoalAmount             0\n",
            "RaisedAmount           0\n",
            "DurationDays           0\n",
            "NumBackers             0\n",
            "Category               0\n",
            "LaunchMonth            0\n",
            "Country                0\n",
            "Currency               0\n",
            "OwnerExperience        0\n",
            "VideoIncluded          0\n",
            "SocialMediaPresence    0\n",
            "NumUpdates             0\n",
            "IsSuccessful           0\n",
            "dtype: int64\n"
          ]
        }
      ]
    },
    {
      "cell_type": "markdown",
      "source": [
        "1.3. Encode Categorical Features: Convert categorical features into numerical format using appropriate encoding techniques."
      ],
      "metadata": {
        "id": "a8At2ru5c84S"
      }
    },
    {
      "cell_type": "code",
      "source": [
        "# Create a copy to avoid SettingWithCopyWarning\n",
        "df_encoded = df.copy()\n",
        "# Identify categorical columns for encoding\n",
        "categorical_cols = ['CampaignID','Category','LaunchMonth','Country','Currency','VideoIncluded']\n",
        "\n",
        "# Apply Label Encoding\n",
        "for col in categorical_cols:\n",
        "    le = LabelEncoder()\n",
        "    df_encoded[col] = le.fit_transform(df_encoded[col])"
      ],
      "metadata": {
        "id": "OB8D1JLna5kO"
      },
      "execution_count": null,
      "outputs": []
    },
    {
      "cell_type": "code",
      "source": [
        "# Display the first few rows of the encoded dataset\n",
        "print(\"\\nFirst 5 rows of the dataset after encoding categorical features:\")\n",
        "print(df_encoded.head())"
      ],
      "metadata": {
        "id": "Mq8gSwQvbP5T",
        "colab": {
          "base_uri": "https://localhost:8080/"
        },
        "outputId": "78e40e58-8eb9-4454-b41d-b30df79a43a9"
      },
      "execution_count": null,
      "outputs": [
        {
          "output_type": "stream",
          "name": "stdout",
          "text": [
            "\n",
            "First 5 rows of the dataset after encoding categorical features:\n",
            "   CampaignID  GoalAmount  RaisedAmount  DurationDays  NumBackers  Category  \\\n",
            "0           0       76159  73518.028955            15        1903         1   \n",
            "1           1       69394  60068.683288            49         469         0   \n",
            "2           2       18652  22958.153470            58         148         1   \n",
            "3           3       19487  24229.048390            39         780         1   \n",
            "4           4       26734  17984.630311            68        1622         2   \n",
            "\n",
            "   LaunchMonth  Country  Currency  OwnerExperience  VideoIncluded  \\\n",
            "0           11        0         3               11              1   \n",
            "1           10        0         3                7              1   \n",
            "2            3        4         2               17              0   \n",
            "3           10        2         0               10              0   \n",
            "4           11        0         0               12              1   \n",
            "\n",
            "   SocialMediaPresence  NumUpdates  IsSuccessful  \n",
            "0                41758           3             0  \n",
            "1                79112          48             0  \n",
            "2                 3942           9             1  \n",
            "3                22047          35             1  \n",
            "4                72568          17             0  \n"
          ]
        }
      ]
    },
    {
      "cell_type": "code",
      "source": [
        "# Display the data types after encoding\n",
        "print(\"\\nData types after encoding:\")\n",
        "print(df_encoded.info())"
      ],
      "metadata": {
        "id": "crCZmGUHdJVR",
        "colab": {
          "base_uri": "https://localhost:8080/"
        },
        "outputId": "3042b772-327e-4fd8-b96e-8b08c68a3986"
      },
      "execution_count": null,
      "outputs": [
        {
          "output_type": "stream",
          "name": "stdout",
          "text": [
            "\n",
            "Data types after encoding:\n",
            "<class 'pandas.core.frame.DataFrame'>\n",
            "RangeIndex: 100000 entries, 0 to 99999\n",
            "Data columns (total 14 columns):\n",
            " #   Column               Non-Null Count   Dtype  \n",
            "---  ------               --------------   -----  \n",
            " 0   CampaignID           100000 non-null  int64  \n",
            " 1   GoalAmount           100000 non-null  int64  \n",
            " 2   RaisedAmount         100000 non-null  float64\n",
            " 3   DurationDays         100000 non-null  int64  \n",
            " 4   NumBackers           100000 non-null  int64  \n",
            " 5   Category             100000 non-null  int64  \n",
            " 6   LaunchMonth          100000 non-null  int64  \n",
            " 7   Country              100000 non-null  int64  \n",
            " 8   Currency             100000 non-null  int64  \n",
            " 9   OwnerExperience      100000 non-null  int64  \n",
            " 10  VideoIncluded        100000 non-null  int64  \n",
            " 11  SocialMediaPresence  100000 non-null  int64  \n",
            " 12  NumUpdates           100000 non-null  int64  \n",
            " 13  IsSuccessful         100000 non-null  int64  \n",
            "dtypes: float64(1), int64(13)\n",
            "memory usage: 10.7 MB\n",
            "None\n"
          ]
        }
      ]
    },
    {
      "cell_type": "markdown",
      "source": [
        "1.4. Feature Selection: Select the relevant features and the target variable for your analysis."
      ],
      "metadata": {
        "id": "IwL_TI2qdP33"
      }
    },
    {
      "cell_type": "code",
      "source": [
        "X = df_encoded.drop('CampaignID', axis=1)\n",
        "y = df_encoded['CampaignID']"
      ],
      "metadata": {
        "id": "rqHmrdGSbwFr"
      },
      "execution_count": null,
      "outputs": []
    },
    {
      "cell_type": "markdown",
      "source": [
        "1.5. Data Splitting: Split the dataset into training and testing sets (e.g., 75% training, 25% testing)."
      ],
      "metadata": {
        "id": "0k_nSjPMdRFX"
      }
    },
    {
      "cell_type": "code",
      "source": [
        "# Split the data into training and testing sets\n",
        "X_train, X_test, y_train, y_test = train_test_split(X, y, test_size=0.25, random_state=42)"
      ],
      "metadata": {
        "id": "XBYkEug2bztL"
      },
      "execution_count": null,
      "outputs": []
    },
    {
      "cell_type": "markdown",
      "source": [
        "1.6. Feature Scaling: Standardize or normalize numerical features using parameters derived from the training set, and apply the same scaling to the test set."
      ],
      "metadata": {
        "id": "hkafxAZodXAB"
      }
    },
    {
      "cell_type": "code",
      "source": [
        "scaler = StandardScaler()\n",
        "X_train = scaler.fit_transform(X_train)\n",
        "X_test = scaler.transform(X_test)"
      ],
      "metadata": {
        "id": "lbZg6PAhb3qu"
      },
      "execution_count": null,
      "outputs": []
    },
    {
      "cell_type": "code",
      "source": [
        "X_train.shape, X_test.shape, y_train.shape, y_test.shape"
      ],
      "metadata": {
        "id": "GW4BRtLNb7Wm",
        "colab": {
          "base_uri": "https://localhost:8080/"
        },
        "outputId": "ebb770a0-097d-40f9-f507-5c5662ab6e7d"
      },
      "execution_count": null,
      "outputs": [
        {
          "output_type": "execute_result",
          "data": {
            "text/plain": [
              "((75000, 13), (25000, 13), (75000,), (25000,))"
            ]
          },
          "metadata": {},
          "execution_count": 18
        }
      ]
    },
    {
      "cell_type": "markdown",
      "source": [
        "#2. Random Forest - Model Building and Evaluation:"
      ],
      "metadata": {
        "id": "_zxYO1CpdkNW"
      }
    },
    {
      "cell_type": "markdown",
      "source": [
        "2.1. Model Building: Build a Random Forest model using the training dataset. Experiment with different values for the number of trees (n_estimators) in the forest and maximum depth (max_depth)."
      ],
      "metadata": {
        "id": "S9Pv_7OAdxdz"
      }
    },
    {
      "cell_type": "code",
      "execution_count": null,
      "metadata": {
        "colab": {
          "base_uri": "https://localhost:8080/"
        },
        "id": "Ok9fTu40PhcW",
        "outputId": "bc4724e3-fae8-429f-846e-a4e469be67a0"
      },
      "outputs": [
        {
          "output_type": "stream",
          "name": "stdout",
          "text": [
            "Random Forest Model Training and Evaluation Results:\n",
            "==================================================\n",
            "n_estimators: 50, max_depth: 5, Accuracy: 0.7472\n",
            "Classification Report:\n",
            "               precision    recall  f1-score     support\n",
            "0              0.676713  0.947091  0.789392  15007.0000\n",
            "1              0.911748  0.547122  0.683868  14993.0000\n",
            "accuracy       0.747200  0.747200  0.747200      0.7472\n",
            "macro avg      0.794231  0.747107  0.736630  30000.0000\n",
            "weighted avg   0.794176  0.747200  0.736655  30000.0000\n",
            "------------------------------\n",
            "n_estimators: 50, max_depth: 10, Accuracy: 0.8579\n",
            "Classification Report:\n",
            "               precision    recall  f1-score       support\n",
            "0              0.783471  0.989272  0.874426  15007.000000\n",
            "1              0.985431  0.726339  0.836277  14993.000000\n",
            "accuracy       0.857867  0.857867  0.857867      0.857867\n",
            "macro avg      0.884451  0.857805  0.855351  30000.000000\n",
            "weighted avg   0.884404  0.857867  0.855360  30000.000000\n",
            "------------------------------\n",
            "n_estimators: 50, max_depth: 15, Accuracy: 0.9189\n",
            "Classification Report:\n",
            "               precision    recall  f1-score       support\n",
            "0              0.867266  0.989205  0.924231  15007.000000\n",
            "1              0.987425  0.848463  0.912685  14993.000000\n",
            "accuracy       0.918867  0.918867  0.918867      0.918867\n",
            "macro avg      0.927346  0.918834  0.918458  30000.000000\n",
            "weighted avg   0.927318  0.918867  0.918461  30000.000000\n",
            "------------------------------\n",
            "n_estimators: 50, max_depth: None, Accuracy: 0.9655\n",
            "Classification Report:\n",
            "               precision    recall  f1-score       support\n",
            "0              0.948450  0.984474  0.966126  15007.000000\n",
            "1              0.983845  0.946442  0.964781  14993.000000\n",
            "accuracy       0.965467  0.965467  0.965467      0.965467\n",
            "macro avg      0.966147  0.965458  0.965454  30000.000000\n",
            "weighted avg   0.966139  0.965467  0.965454  30000.000000\n",
            "------------------------------\n",
            "n_estimators: 100, max_depth: 5, Accuracy: 0.7365\n",
            "Classification Report:\n",
            "               precision    recall  f1-score       support\n",
            "0              0.665486  0.951689  0.783262  15007.000000\n",
            "1              0.915095  0.521177  0.664117  14993.000000\n",
            "accuracy       0.736533  0.736533  0.736533      0.736533\n",
            "macro avg      0.790291  0.736433  0.723689  30000.000000\n",
            "weighted avg   0.790233  0.736533  0.723717  30000.000000\n",
            "------------------------------\n",
            "n_estimators: 100, max_depth: 10, Accuracy: 0.8570\n",
            "Classification Report:\n",
            "               precision    recall  f1-score       support\n",
            "0              0.782082  0.990071  0.873871  15007.000000\n",
            "1              0.986457  0.723871  0.835007  14993.000000\n",
            "accuracy       0.857033  0.857033  0.857033      0.857033\n",
            "macro avg      0.884270  0.856971  0.854439  30000.000000\n",
            "weighted avg   0.884222  0.857033  0.854448  30000.000000\n",
            "------------------------------\n",
            "n_estimators: 100, max_depth: 15, Accuracy: 0.9197\n",
            "Classification Report:\n",
            "               precision    recall  f1-score       support\n",
            "0              0.866043  0.993003  0.925188  15007.000000\n",
            "1              0.991792  0.846262  0.913266  14993.000000\n",
            "accuracy       0.919667  0.919667  0.919667      0.919667\n",
            "macro avg      0.928918  0.919632  0.919227  30000.000000\n",
            "weighted avg   0.928888  0.919667  0.919230  30000.000000\n",
            "------------------------------\n",
            "n_estimators: 100, max_depth: None, Accuracy: 0.9737\n",
            "Classification Report:\n",
            "               precision    recall  f1-score       support\n",
            "0              0.959710  0.988872  0.974073  15007.000000\n",
            "1              0.988512  0.958447  0.973248  14993.000000\n",
            "accuracy       0.973667  0.973667  0.973667      0.973667\n",
            "macro avg      0.974111  0.973660  0.973660  30000.000000\n",
            "weighted avg   0.974104  0.973667  0.973660  30000.000000\n",
            "------------------------------\n",
            "n_estimators: 200, max_depth: 5, Accuracy: 0.7373\n",
            "Classification Report:\n",
            "               precision    recall  f1-score     support\n",
            "0              0.665567  0.954421  0.784242  15007.0000\n",
            "1              0.919340  0.519976  0.664253  14993.0000\n",
            "accuracy       0.737300  0.737300  0.737300      0.7373\n",
            "macro avg      0.792453  0.737199  0.724247  30000.0000\n",
            "weighted avg   0.792394  0.737300  0.724275  30000.0000\n",
            "------------------------------\n",
            "n_estimators: 200, max_depth: 10, Accuracy: 0.8534\n",
            "Classification Report:\n",
            "               precision    recall  f1-score       support\n",
            "0              0.777168  0.991204  0.871233  15007.000000\n",
            "1              0.987845  0.715534  0.829923  14993.000000\n",
            "accuracy       0.853433  0.853433  0.853433      0.853433\n",
            "macro avg      0.882507  0.853369  0.850578  30000.000000\n",
            "weighted avg   0.882458  0.853433  0.850588  30000.000000\n",
            "------------------------------\n",
            "n_estimators: 200, max_depth: 15, Accuracy: 0.9192\n",
            "Classification Report:\n",
            "               precision    recall  f1-score       support\n",
            "0              0.864569  0.994136  0.924837  15007.000000\n",
            "1              0.993095  0.844127  0.912572  14993.000000\n",
            "accuracy       0.919167  0.919167  0.919167      0.919167\n",
            "macro avg      0.928832  0.919132  0.918704  30000.000000\n",
            "weighted avg   0.928802  0.919167  0.918707  30000.000000\n",
            "------------------------------\n",
            "n_estimators: 200, max_depth: None, Accuracy: 0.9773\n",
            "Classification Report:\n",
            "               precision    recall  f1-score     support\n",
            "0              0.965009  0.990538  0.977607  15007.0000\n",
            "1              0.990271  0.964050  0.976985  14993.0000\n",
            "accuracy       0.977300  0.977300  0.977300      0.9773\n",
            "macro avg      0.977640  0.977294  0.977296  30000.0000\n",
            "weighted avg   0.977634  0.977300  0.977296  30000.0000\n",
            "------------------------------\n",
            "\n",
            "Best Model Configuration:\n",
            "n_estimators: 200\n",
            "max_depth: None\n",
            "Accuracy: 0.9773\n",
            "Classification Report:\n",
            "               precision    recall  f1-score     support\n",
            "0              0.965009  0.990538  0.977607  15007.0000\n",
            "1              0.990271  0.964050  0.976985  14993.0000\n",
            "accuracy       0.977300  0.977300  0.977300      0.9773\n",
            "macro avg      0.977640  0.977294  0.977296  30000.0000\n",
            "weighted avg   0.977634  0.977300  0.977296  30000.0000\n"
          ]
        }
      ],
      "source": [
        "# Experiment with different n_estimators and max_depth values\n",
        "n_estimators_options = [50, 100, 200]\n",
        "max_depth_options = [5, 10, 15, None] # None means full depth\n",
        "\n",
        "results = []\n",
        "\n",
        "for n_estimators in n_estimators_options:\n",
        "    for max_depth in max_depth_options:\n",
        "        # Initialize and train the Random Forest Classifier\n",
        "        rf_model = RandomForestClassifier(n_estimators=n_estimators, max_depth=max_depth, random_state=42)\n",
        "        rf_model.fit(X_train, y_train)\n",
        "\n",
        "        # Make predictions\n",
        "        y_pred = rf_model.predict(X_test)\n",
        "\n",
        "        # Evaluate the model\n",
        "        accuracy = accuracy_score(y_test, y_pred)\n",
        "        report = classification_report(y_test, y_pred, output_dict=True)\n",
        "\n",
        "        results.append({\n",
        "            'n_estimators': n_estimators,\n",
        "            'max_depth': max_depth,\n",
        "            'accuracy': accuracy,\n",
        "            'classification_report': report\n",
        "        })\n",
        "\n",
        "# Print results\n",
        "print(\"Random Forest Model Training and Evaluation Results:\")\n",
        "print(\"=\" * 50)\n",
        "for res in results:\n",
        "    print(f\"n_estimators: {res['n_estimators']}, max_depth: {res['max_depth']}, Accuracy: {res['accuracy']:.4f}\")\n",
        "    print(\"Classification Report:\\n\", pd.DataFrame(res['classification_report']).transpose())\n",
        "    print(\"-\" * 30)\n",
        "\n",
        "# Identify the best model based on accuracy\n",
        "best_model_info = max(results, key=lambda x: x['accuracy'])\n",
        "print(\"\\nBest Model Configuration:\")\n",
        "print(f\"n_estimators: {best_model_info['n_estimators']}\")\n",
        "print(f\"max_depth: {best_model_info['max_depth']}\")\n",
        "print(f\"Accuracy: {best_model_info['accuracy']:.4f}\")\n",
        "print(\"Classification Report:\\n\", pd.DataFrame(best_model_info['classification_report']).transpose())"
      ]
    },
    {
      "cell_type": "markdown",
      "source": [
        "2.2. Model Evaluation: Evaluate the model on the testing dataset and report the accuracy score."
      ],
      "metadata": {
        "id": "LN6guI0Kd5Db"
      }
    },
    {
      "cell_type": "code",
      "source": [
        "from sklearn.ensemble import RandomForestClassifier\n",
        "from sklearn.metrics import accuracy_score, confusion_matrix, classification_report\n",
        "\n",
        "# Re-train the model with the chosen hyperparameters\n",
        "best_rf = RandomForestClassifier(n_estimators=100, max_depth=10, random_state=42)\n",
        "best_rf.fit(X_train, y_train)\n",
        "\n",
        "# Predict on test set\n",
        "y_pred = best_rf.predict(X_test)\n",
        "\n",
        "# Accuracy Score\n",
        "accuracy = accuracy_score(y_test, y_pred)\n",
        "print(f\"Accuracy on Test Set: {accuracy:.4f}\")\n",
        "\n",
        "# Classification Report\n",
        "print(\"\\nClassification Report:\")\n",
        "print(classification_report(y_test, y_pred))\n",
        "\n",
        "# Confusion Matrix\n",
        "print(\"\\nConfusion Matrix:\")\n",
        "print(confusion_matrix(y_test, y_pred))\n"
      ],
      "metadata": {
        "colab": {
          "base_uri": "https://localhost:8080/"
        },
        "id": "FJaYM2JpWbyG",
        "outputId": "48b931b5-a77d-4be2-e744-1cda5b161720"
      },
      "execution_count": null,
      "outputs": [
        {
          "output_type": "stream",
          "name": "stdout",
          "text": [
            "Accuracy on Test Set: 0.8570\n",
            "\n",
            "Classification Report:\n",
            "              precision    recall  f1-score   support\n",
            "\n",
            "           0       0.78      0.99      0.87     15007\n",
            "           1       0.99      0.72      0.84     14993\n",
            "\n",
            "    accuracy                           0.86     30000\n",
            "   macro avg       0.88      0.86      0.85     30000\n",
            "weighted avg       0.88      0.86      0.85     30000\n",
            "\n",
            "\n",
            "Confusion Matrix:\n",
            "[[14858   149]\n",
            " [ 4140 10853]]\n"
          ]
        }
      ]
    },
    {
      "cell_type": "markdown",
      "source": [
        "#3. Naive Bayes - Model Building and Evaluation:"
      ],
      "metadata": {
        "id": "mAtD5LqPeCQ_"
      }
    },
    {
      "cell_type": "markdown",
      "source": [
        "3.1. Model Building: Build a Naive Bayes model using the training dataset. You can choose between Gaussian, Multinomial, or Bernoulli based on the nature of your features (e.g., GaussianNB() for continuous features)."
      ],
      "metadata": {
        "id": "z4DKo_b5eHR7"
      }
    },
    {
      "cell_type": "code",
      "source": [
        "from sklearn.naive_bayes import GaussianNB\n",
        "from sklearn.metrics import accuracy_score, classification_report, confusion_matrix"
      ],
      "metadata": {
        "id": "k7YvRqIbXJGX"
      },
      "execution_count": null,
      "outputs": []
    },
    {
      "cell_type": "code",
      "source": [
        "# Initialize the Gaussian Naive Bayes model\n",
        "gnb = GaussianNB()\n",
        "\n",
        "# Fit the model on training data\n",
        "gnb.fit(X_train, y_train)\n",
        "\n",
        "# Predict on test data\n",
        "y_pred_nb = gnb.predict(X_test)"
      ],
      "metadata": {
        "id": "euMPOPYwXM8R"
      },
      "execution_count": null,
      "outputs": []
    },
    {
      "cell_type": "markdown",
      "source": [
        "3.2.\tModel Evaluation: Evaluate the model on the testing dataset and report the accuracy score."
      ],
      "metadata": {
        "id": "g5ypGztoeNEb"
      }
    },
    {
      "cell_type": "code",
      "source": [
        "# Evaluate the model\n",
        "accuracy_nb = accuracy_score(y_test, y_pred_nb)\n",
        "print(f\"Naive Bayes Accuracy: {accuracy_nb:.4f}\")\n",
        "\n",
        "print(\"\\nClassification Report:\")\n",
        "print(classification_report(y_test, y_pred_nb))\n",
        "\n",
        "print(\"\\nConfusion Matrix:\")\n",
        "print(confusion_matrix(y_test, y_pred_nb))"
      ],
      "metadata": {
        "colab": {
          "base_uri": "https://localhost:8080/"
        },
        "id": "OHpNbKbrXjID",
        "outputId": "4cab23d2-9c91-447a-89a9-640fdb051819"
      },
      "execution_count": null,
      "outputs": [
        {
          "output_type": "stream",
          "name": "stdout",
          "text": [
            "Naive Bayes Accuracy: 0.6658\n",
            "\n",
            "Classification Report:\n",
            "              precision    recall  f1-score   support\n",
            "\n",
            "           0       0.63      0.81      0.71     15007\n",
            "           1       0.73      0.52      0.61     14993\n",
            "\n",
            "    accuracy                           0.67     30000\n",
            "   macro avg       0.68      0.67      0.66     30000\n",
            "weighted avg       0.68      0.67      0.66     30000\n",
            "\n",
            "\n",
            "Confusion Matrix:\n",
            "[[12199  2808]\n",
            " [ 7218  7775]]\n"
          ]
        }
      ]
    },
    {
      "cell_type": "markdown",
      "source": [
        "#4. Support Vector Machine (SVM) - Model Building and Evaluation:"
      ],
      "metadata": {
        "id": "2Mb7mKWVeZqd"
      }
    },
    {
      "cell_type": "markdown",
      "source": [
        "4.1. Model Building: Build an SVM model using the training dataset. Experiment with different kernel functions (e.g., linear, RBF).\n",
        "4.2.\tModel Evaluation: Evaluate the model on the testing dataset and report the accuracy score."
      ],
      "metadata": {
        "id": "2eHIrvdVefKj"
      }
    },
    {
      "cell_type": "code",
      "source": [
        "from sklearn.svm import SVC"
      ],
      "metadata": {
        "id": "pcwKvwNmX0Q0"
      },
      "execution_count": null,
      "outputs": []
    },
    {
      "cell_type": "code",
      "source": [
        "# Define different kernels\n",
        "kernels = ['linear', 'rbf']\n",
        "\n",
        "# Dictionary to store results\n",
        "svm_results = {}\n",
        "\n",
        "for kernel in kernels:\n",
        "    # Build and train the SVM model\n",
        "    svm_model = SVC(kernel=kernel, random_state=42)\n",
        "    svm_model.fit(X_train, y_train)\n",
        "\n",
        "    # Predict on test data\n",
        "    y_pred = svm_model.predict(X_test)\n",
        "\n",
        "    # Calculate accuracy\n",
        "    accuracy = accuracy_score(y_test, y_pred)\n",
        "    svm_results[kernel] = accuracy\n",
        "    print(f\"SVM with {kernel} kernel - Accuracy: {accuracy:.4f}\")"
      ],
      "metadata": {
        "colab": {
          "base_uri": "https://localhost:8080/"
        },
        "id": "uMTxd8prZC4p",
        "outputId": "da0080f0-5ac6-4e2b-ca9e-dcd04fc99661"
      },
      "execution_count": null,
      "outputs": [
        {
          "output_type": "stream",
          "name": "stdout",
          "text": [
            "SVM with linear kernel - Accuracy: 0.9998\n",
            "SVM with rbf kernel - Accuracy: 0.9948\n"
          ]
        }
      ]
    },
    {
      "cell_type": "code",
      "source": [
        "# Classification report\n",
        "print(\"\\nClassification Report:\")\n",
        "print(classification_report(y_test, y_pred))\n",
        "\n",
        "# Confusion matrix\n",
        "print(\"\\nConfusion Matrix:\")\n",
        "print(confusion_matrix(y_test, y_pred))"
      ],
      "metadata": {
        "colab": {
          "base_uri": "https://localhost:8080/"
        },
        "id": "qq8a-W1OfCpv",
        "outputId": "8cbc0482-4d36-4678-fc13-ffead8f32f57"
      },
      "execution_count": null,
      "outputs": [
        {
          "output_type": "stream",
          "name": "stdout",
          "text": [
            "\n",
            "Classification Report:\n",
            "              precision    recall  f1-score   support\n",
            "\n",
            "           0       0.99      1.00      0.99     15007\n",
            "           1       1.00      0.99      0.99     14993\n",
            "\n",
            "    accuracy                           0.99     30000\n",
            "   macro avg       0.99      0.99      0.99     30000\n",
            "weighted avg       0.99      0.99      0.99     30000\n",
            "\n",
            "\n",
            "Confusion Matrix:\n",
            "[[14985    22]\n",
            " [  134 14859]]\n"
          ]
        }
      ]
    },
    {
      "cell_type": "markdown",
      "source": [
        "#5. Comparison and Analysis:"
      ],
      "metadata": {
        "id": "smI8atkafRDf"
      }
    },
    {
      "cell_type": "markdown",
      "source": [
        "5.1. Compare the accuracy scores of the three models."
      ],
      "metadata": {
        "id": "Va9-H4nofS3g"
      }
    },
    {
      "cell_type": "markdown",
      "source": [
        "| Model             | Accuracy Score   |\n",
        "| ----------------- | ---------------- |\n",
        "| **Random Forest** | \\~0.857 |\n",
        "| **Naive Bayes**   | \\~0.665 |\n",
        "| **SVM (RBF)**     | \\~0.999 |\n",
        "| **SVM (Linear)**  | \\~0.994 |\n"
      ],
      "metadata": {
        "id": "rXdjDYa0fZNy"
      }
    },
    {
      "cell_type": "markdown",
      "source": [
        "5.2. Discuss which model performed best and why, based on the accuracy scores and other relevant factors."
      ],
      "metadata": {
        "id": "w1rJeyB-fehe"
      }
    },
    {
      "cell_type": "markdown",
      "source": [
        "Best Performer:\n",
        " Random Forest achieved the highest accuracy.\n",
        "\n",
        "Why Random Forest Performs Well:\n",
        "\n",
        "It handles both categorical and numerical features effectively.\n",
        "\n",
        "It can capture non-linear relationships and feature interactions.\n",
        "\n",
        "It is robust to outliers and overfitting (when properly tuned).\n",
        "\n",
        "Why Others Lagged Slightly:\n",
        "\n",
        "Naive Bayes assumes feature independence, which is often not true for real-world data.\n",
        "\n",
        "SVM works well, especially with kernels, but may require extensive tuning and scaling."
      ],
      "metadata": {
        "id": "LEkryDl3flbl"
      }
    },
    {
      "cell_type": "markdown",
      "source": [
        "5.3. Reflect on the strengths and weaknesses of each model in the context of this dataset."
      ],
      "metadata": {
        "id": "rbE4zLxEfq1Z"
      }
    },
    {
      "cell_type": "markdown",
      "source": [
        "\n",
        "\n",
        "\n",
        "\n",
        "\n",
        "\n",
        "\n",
        "\n",
        "\n",
        "\n",
        "\n",
        "\n",
        "\n",
        "\n",
        "\n",
        "\n",
        "\n",
        "\n",
        "\n",
        "\n",
        "\n",
        "\n",
        "\n",
        "\n",
        "\n",
        "\n",
        "\n",
        "\n",
        "\n",
        "\n",
        "\n",
        "\n",
        "\n",
        "\n",
        "\n",
        "\n",
        "\n",
        "\n",
        "\n",
        "\n",
        "\n",
        "\n",
        "\n",
        "\n",
        "\n",
        "\n",
        "\n",
        "\n",
        "\n",
        "\n",
        "\n",
        "\n",
        "\n",
        "\n",
        "\n",
        "\n",
        "\n",
        "\n",
        "\n",
        "\n",
        "\n",
        "\n",
        "\n",
        "\n",
        "\n",
        "\n",
        "\n",
        "\n",
        "| Model             | Strengths                                                                 | Weaknesses                                                               |\n",
        "| ----------------- | ------------------------------------------------------------------------- | ------------------------------------------------------------------------ |\n",
        "| **Random Forest** | - High accuracy<br>- Handles mixed data types<br>- Low overfitting        | - Slower to train<br>- Less interpretable                                |\n",
        "| **Naive Bayes**   | - Fast to train and predict<br>- Works well with high-dimensional data    | - Assumes feature independence<br>- May underperform on complex patterns |\n",
        "| **SVM**           | - Effective in high-dimensional space<br>- Robust with non-linear kernels | - Sensitive to feature scaling<br>- Can be slow with large datasets      |\n"
      ],
      "metadata": {
        "id": "aNOsxGJafwG0"
      }
    },
    {
      "cell_type": "markdown",
      "source": [
        "Summary :\n",
        ">Use Random Forest if accuracy and generalization are your priority.\n",
        "\n",
        ">Use Naive Bayes if you need a quick, interpretable baseline or work with text/count features.\n",
        "\n",
        ">Use SVM if you're okay with tuning and need a balanced performer for complex boundaries.\n"
      ],
      "metadata": {
        "id": "Kk6WfWXPf1y8"
      }
    }
  ]
}